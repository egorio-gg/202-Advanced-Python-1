{
  "nbformat": 4,
  "nbformat_minor": 0,
  "metadata": {
    "colab": {
      "name": "Nuc_5.ipynb",
      "provenance": [],
      "collapsed_sections": []
    },
    "kernelspec": {
      "name": "python3",
      "display_name": "Python 3"
    },
    "language_info": {
      "name": "python"
    }
  },
  "cells": [
    {
      "cell_type": "markdown",
      "metadata": {
        "id": "j1x9APJHtXFX"
      },
      "source": [
        "#Ядерный практикум. Задача N5\n",
        "##Электромагнитные взаимодействия.Определение энергииγ-квантов с помощьюсцинтилляционного спектрометра\n",
        "\n",
        "**Цель работы:** *пределение энергии**$γ$**-излучения неизвестного источника.Измерения проводятся с помощью сцинтилляционного спектрометра.*"
      ]
    },
    {
      "cell_type": "code",
      "metadata": {
        "id": "gkGFcFT8tUo-"
      },
      "source": [
        "import numpy as np\n",
        "import scipy as sp\n",
        "import matplotlib.pyplot as plt\n",
        "from matplotlib import rcParams\n",
        "rcParams['figure.dpi'] = 100"
      ],
      "execution_count": 1,
      "outputs": []
    },
    {
      "cell_type": "markdown",
      "metadata": {
        "id": "e6v5gwYGvEVy"
      },
      "source": [
        "###Упражнение 1.\n",
        "Вначале необходимо проградуировать **$γ$**-спектрометр, т.е. получить зависимость номера канала амплитудного анализатора от энергии **$γ$**-кванта. С этой целью необходимо измерить спектры величин импульсов от 2-х **$γ$**-источников с известными энергиями **$γ$**-квантов. В полученных спектрах выделить пики полного поглощения (фотопики). Построить график зависимости номера канала пика полного поглощения от энергии **$γ$**-излучения.\n",
        "\n"
      ]
    },
    {
      "cell_type": "code",
      "metadata": {
        "id": "7L76PDXkwn13"
      },
      "source": [
        "data1 = np.loadtxt('/content/drive/MyDrive/прога/data1.txt')"
      ],
      "execution_count": 3,
      "outputs": []
    },
    {
      "cell_type": "markdown",
      "metadata": {
        "id": "WQXzfdywy9Q-"
      },
      "source": [
        "Теперь нам нужно воспользоваться МНК: $E = kn+b$"
      ]
    },
    {
      "cell_type": "code",
      "metadata": {
        "colab": {
          "base_uri": "https://localhost:8080/",
          "height": 347
        },
        "id": "ixvTzIyozAUZ",
        "outputId": "e8e9c3a7-03b9-4761-8683-b31af4826f2c"
      },
      "source": [
        "def mnk(data):\n",
        "  N = data.shape[0]\n",
        "  x, y = data[:, 0], data[:, 1]\n",
        "\n",
        "  mx, my = x.sum(), y.sum()\n",
        "  a1, a2 = np.dot(x.T, y), np.dot(x.T, x)\n",
        "  \n",
        "  k = (N*a1 - mx*my)/(N*a2 - mx**2)\n",
        "  b = (a2*my - mx*a1)/(N*a2 - mx**2)\n",
        "  s0 = np.dot((y-k*x-b).T, (y-k*x-b))/(N-2)\n",
        "  dk = (s0*N/(N*a2 - mx**2))**(1/2)\n",
        "  db = (s0*a2/(N*a2 - mx**2))**(1/2)\n",
        "  f = np.array([k*z+b for z in range(1024)])\n",
        "  return k, dk, b, db, f, s0\n",
        "\n",
        "k, dk, b, db, f, s0 = mnk(data1)\n",
        "plt.ylabel('Энергия, МэВ')\n",
        "plt.xlabel('Номер канала')\n",
        "plt.xlim((0, 1023))\n",
        "plt.ylim((0, 2.5))\n",
        "plt.title('Зависимость энергии регестрируемых частиц от номера канала.', fontsize=14)\n",
        "plt.plot(f, c='red', lw = 1)\n",
        "plt.scatter(data1[:,0], data1[:,1], s=8, c='blue')\n",
        "plt.errorbar(data1[:,0], data1[:,1], yerr=s0**(1/2), fmt='.', capsize=2, capthick=1);\n",
        "plt.grid(True)\n",
        "plt.show()\n",
        "print ('Результат МНК:')\n",
        "print (\"k =\", k, \"±\", dk)\n",
        "print (\"b =\", b, \"±\", db)"
      ],
      "execution_count": 4,
      "outputs": [
        {
          "output_type": "display_data",
          "data": {
            "image/png": "[encoded data removed]",
            "text/plain": [
              "<Figure size 432x288 with 1 Axes>"
            ]
          },
          "metadata": {
            "needs_background": "light"
          }
        },
        {
          "output_type": "stream",
          "name": "stdout",
          "text": [
            "Результат МНК:\n",
            "k = 0.0023876383113524435 ± 4.230580896190499e-05\n",
            "b = -0.02855827575291764 ± 0.014861170832426555\n"
          ]
        }
      ]
    },
    {
      "cell_type": "markdown",
      "metadata": {
        "id": "26ap1heK3CPB"
      },
      "source": [
        "###Упражнение 2.\n",
        "\n",
        "Оценить разрешающую способность **$γ$**-спектрометра, определиввеличину Γ — ширину пика на половине его высоты («полуширина»). Здесь нам нужно просто перевести полуширину, измеренную в числе каналов, в МэВ."
      ]
    },
    {
      "cell_type": "code",
      "metadata": {
        "colab": {
          "base_uri": "https://localhost:8080/"
        },
        "id": "7gZgItEPSNH5",
        "outputId": "608fd2c0-870d-4dcd-85f5-e96ec4a5db8f"
      },
      "source": [
        "data2 = np.loadtxt('/content/drive/MyDrive/прога/data2.txt')\n",
        "\n",
        "G = np.absolute(data2*k + b)\n",
        "\n",
        "co = G[0:2]\n",
        "eu = G[2:5]\n",
        "unt = G[5:]\n",
        "\n",
        "print('Co-60 разрешение')\n",
        "for i, j in enumerate(co):\n",
        "  print('{i} пик: {j}'.format(i=i+1, j=j))\n",
        "\n",
        "print('\\nEu-152 разрешение')\n",
        "for i, j in enumerate(eu):\n",
        "  print('{i} пик: {j}'.format(i=i+1, j=j))\n",
        "\n",
        "print('\\nНеизвестный источник разрешение')\n",
        "for i, j in enumerate(unt):\n",
        "  print('{i} пик: {j}'.format(i=i+1, j=j))"
      ],
      "execution_count": 13,
      "outputs": [
        {
          "output_type": "stream",
          "name": "stdout",
          "text": [
            "Co-60 разрешение\n",
            "1 пик: 0.050088142584720496\n",
            "2 пик: 0.058850775187383964\n",
            "\n",
            "Eu-152 разрешение\n",
            "1 пик: 0.007832142627391618\n",
            "2 пик: 0.005102649160529112\n",
            "3 пик: 0.012595058181553077\n",
            "\n",
            "Неизвестный источник разрешение\n",
            "1 пик: 0.0011004351723645396\n",
            "2 пик: 0.019865416839621265\n",
            "3 пик: 0.027369764052201997\n",
            "4 пик: 0.06334669812766061\n"
          ]
        }
      ]
    },
    {
      "cell_type": "markdown",
      "metadata": {
        "id": "JhO4OeBIT0QR"
      },
      "source": [
        "###Упражнение 3\n",
        "Определить энергию пика полного поглощения по данным ранее выполненной градуировки. По разрешающей способности спектрометра и полученным распределениям (пункт 2) оценить ошибку определения энергии ∆E для γ-квантов от неизвестного источника (X). Представить результат как $E(X) = E ± ∆E$"
      ]
    },
    {
      "cell_type": "code",
      "metadata": {
        "id": "2XNzPOp24t0j",
        "colab": {
          "base_uri": "https://localhost:8080/"
        },
        "outputId": "fdb44b02-5761-4148-e6ab-5b25529340b2"
      },
      "source": [
        "data3 = np.loadtxt('/content/drive/MyDrive/прога/data3.txt')\n",
        "e_unt = k*data3 + b\n",
        "de_unt = np.sqrt(dk**2+db**2+unt**2)\n",
        "\n",
        "print('Энергия пиков неизвестного источника')\n",
        "for i in range(data3.shape[0]):\n",
        "  print('{i} пик: ({e} ± {de}) (МэВ)'.format(i=i, e=e_unt[i], de=de_unt[i]))"
      ],
      "execution_count": 17,
      "outputs": [
        {
          "output_type": "stream",
          "name": "stdout",
          "text": [
            "Энергия пиков неизвестного источника\n",
            "0 пик: (0.04784615021036055 ± 0.014901917522943639) (МэВ)\n",
            "1 пик: (0.17374393072966354 ± 0.024809090561807096) (МэВ)\n",
            "2 пик: (0.5206462886243715 ± 0.03114418360730052) (МэВ)\n",
            "3 пик: (1.344142742209829 ± 0.06506658398878028) (МэВ)\n"
          ]
        }
      ]
    }
  ]
}